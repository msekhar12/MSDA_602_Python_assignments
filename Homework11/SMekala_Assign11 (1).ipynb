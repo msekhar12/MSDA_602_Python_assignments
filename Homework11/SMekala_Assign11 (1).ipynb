{
 "cells": [
  {
   "cell_type": "markdown",
   "metadata": {},
   "source": [
    "Assignment 11\n",
    "--------------\n",
    "###Author: Sekhar Mekala\n",
    "\n",
    "\n",
    "##Value at Risk (VAR) computation for a stock\n",
    "\n"
   ]
  },
  {
   "cell_type": "markdown",
   "metadata": {},
   "source": [
    "Importing the required modules\n",
    "--------------------------------"
   ]
  },
  {
   "cell_type": "code",
   "execution_count": 1,
   "metadata": {
    "collapsed": false
   },
   "outputs": [],
   "source": [
    "import pandas as pd\n",
    "from pandas import Series,DataFrame\n",
    "import math\n",
    "import os\n",
    "import csv\n",
    "import re\n",
    "import numpy as np\n",
    "import matplotlib.mlab as mlab\n",
    "import matplotlib.pyplot as plt\n",
    "from scipy import stats\n",
    "%matplotlib inline"
   ]
  },
  {
   "cell_type": "markdown",
   "metadata": {},
   "source": [
    "Set the current working directory\n",
    "-----------------------------------\n",
    "\n",
    "You need to set the current working directory to the directory where the file \"apple.2011.csv\" resides. In the following code, you will be prompted to enter your choice, if you want to change your current working directory. The default answer for this is N (No). The default behavior is not to change the current working directory, and just proceed with the default directory. \n",
    "\n",
    "If you need to change the directory, then you have to answer \"y\" or \"Y\" (for Yes option). Then you will be prompted to enter the new desired directory. This new directory must contain the \"apple.2011.csv\" file."
   ]
  },
  {
   "cell_type": "code",
   "execution_count": 2,
   "metadata": {
    "collapsed": false
   },
   "outputs": [
    {
     "name": "stdout",
     "output_type": "stream",
     "text": [
      "\n",
      "The current working directory is C:\\Users\\Sekhar Do you want to change this? (Y/N. Default is N)==>y\n",
      "\n",
      "Enter the directory where the apple.2011.csv resides==>C:\\Users\\Sekhar\\Documents\\Python Scripts\n"
     ]
    }
   ],
   "source": [
    "dir = os.getcwd()\n",
    "s = raw_input(\"\\nThe current working directory is \" + dir +\" Do you want to change this? (Y/N. Default is N)==>\")\n",
    "if (s == 'y' or s == 'Y'):\n",
    "    s = raw_input(\"\\nEnter the directory where the apple.2011.csv resides==>\")\n",
    "    try:\n",
    "        os.chdir(s)\n",
    "    except:\n",
    "        print \"\\nThe new directory location is invalid. \"\n",
    "        print \"\\nThe current working directory (\" + dir  +\") is not changed.\"\n",
    "else:\n",
    "    print \"\\nUsing the directory: \" + dir + \" as the current working directory\"\n",
    "dir = os.getcwd()"
   ]
  },
  {
   "cell_type": "markdown",
   "metadata": {},
   "source": [
    "Reading the apple.2011.csv file\n",
    "---------------------------------"
   ]
  },
  {
   "cell_type": "code",
   "execution_count": 3,
   "metadata": {
    "collapsed": false
   },
   "outputs": [
    {
     "name": "stdout",
     "output_type": "stream",
     "text": [
      "file read successfully\n"
     ]
    }
   ],
   "source": [
    "#Set the precision\n",
    "pd.set_option('precision',11)\n",
    "try:\n",
    "     df = pd.read_csv(\"apple.2011.csv\")\n",
    "except:\n",
    "     print \"Error in reading the file. Check if the file 'apple.2011.csv' exists in the current working directory: \\n\" + dir\n",
    "else:\n",
    "    print \"file read successfully\"\n",
    "    \n",
    "    df.columns = ('date','price','change')\n",
    "    \n",
    "    df.set_value(0, 'change', float(0.0))\n",
    "    df[['price']].astype(float)\n",
    "    \n",
    "    #Somehow the df[['change']].astype(float) is not working, so explicitly converting to float as shown below:\n",
    "    df[['change']] = Series(df['change'],dtype=float)\n",
    "    \n",
    "    \n"
   ]
  },
  {
   "cell_type": "markdown",
   "metadata": {},
   "source": [
    "Let us plot the histogram for the percentage change, in order to confirm if it has the normal distribution. If the distribution is bell shaped, then it is justified to use random values from normal distribution."
   ]
  },
  {
   "cell_type": "code",
   "execution_count": 4,
   "metadata": {
    "collapsed": false
   },
   "outputs": [
    {
     "data": {
      "image/png": "[encoded data removed]",
      "text/plain": [
       "<matplotlib.figure.Figure at 0x4211160>"
      ]
     },
     "metadata": {},
     "output_type": "display_data"
    }
   ],
   "source": [
    "    #print df    \n",
    "    change_mean = Series(df['change']).mean()\n",
    "    change_std = Series(df['change']).std()\n",
    "    \n",
    "    num_bins = 200\n",
    "    #n, bins, patches = plt.hist(df['price'], num_bins, normed=1, facecolor='green', alpha=0.5)\n",
    "    plt.hist(df['change'], num_bins, normed=1, facecolor='green', alpha=0.5)\n",
    "    plt.title(\"Percentage change histogram\")\n",
    "    plt.ylabel(\"Frequency\")\n",
    "    plt.xlabel(\"Normalized percentage change\")\n",
    "    plt.show()\n",
    "    "
   ]
  },
  {
   "cell_type": "markdown",
   "metadata": {},
   "source": [
    "The above histogram shows that the percentage change follows a normal distribution. Hence we can safely use the random numbers from normal distribution.\n",
    "Let us generate 20 random values from the normal distribution, with mean and standard deviation of percentage change values (this is addressed as \"change\" column in our data frame). Using these 20 random values, we will get the possible price of the stock at the end of the 20th day. We will repeat this process for 10,000 times, and obtain 10,000 possible prices of the stock at the end of the 20th day. These 10,000 values will be collected into a list object."
   ]
  },
  {
   "cell_type": "code",
   "execution_count": 5,
   "metadata": {
    "collapsed": false
   },
   "outputs": [],
   "source": [
    "    mu = Series(df['change']).mean()\n",
    "    sigma = Series(df['change']).std()\n",
    "    \n",
    "    predict = list()\n",
    "    for i in range(9999):\n",
    "        s = np.random.normal(mu, sigma, 20)\n",
    "        #Adding 1 to all the elements, so that it represents a true multiplier to the previous stock price\n",
    "        s = s + 1\n",
    "        \n",
    "        #Multiplying all the elements in s\n",
    "        r = np.prod(s)\n",
    "\n",
    "        #Now multiplying the result obtained above with the last known price (actual price of the stock last known)\n",
    "        predict.append(list(df['price'])[-1] * r)\n",
    "\n",
    "    #Let us sort the values obtained\n",
    "    predict.sort()\n",
    "    predict_series = Series(predict)\n",
    "    \n",
    "    \n",
    "    \n",
    "    \n",
    "   "
   ]
  },
  {
   "cell_type": "markdown",
   "metadata": {},
   "source": [
    "Calculating the stock value at 99% confidence level\n",
    "------------------------------------------------------\n",
    "\n",
    "We will obtain the value at the 1 percentile. The 1 percentile represents that there are 1% of values below this value. NOTE that we sorted the data (which is obtained as an output from 10000 trials) in ascending order. \n",
    "\n",
    "The 1 percentile value represents that there is 99% probability that the stock price will not go below this value.\n",
    "\n",
    "The 1 percentile value is displayed below. \n"
   ]
  },
  {
   "cell_type": "code",
   "execution_count": 6,
   "metadata": {
    "collapsed": false
   },
   "outputs": [
    {
     "data": {
      "text/plain": [
       "347.56182434585583"
      ]
     },
     "execution_count": 6,
     "metadata": {},
     "output_type": "execute_result"
    }
   ],
   "source": [
    "#Commented the zscore method of calculation. We have to use the percentile, but I am leaving the following commands (commented), for future reference\n",
    "#zscore = stats.norm.ppf(0.01)\n",
    "#minimal_stk = (zscore * predict_series.std() ) + predict_series.mean()\n",
    "#print minimal_stk\n",
    "\n",
    "predict_series.quantile(.01)\n",
    "predict_series.quantile(.01)\n"
   ]
  }
 ],
 "metadata": {
  "kernelspec": {
   "display_name": "Python 2",
   "language": "python",
   "name": "python2"
  },
  "language_info": {
   "codemirror_mode": {
    "name": "ipython",
    "version": 2
   },
   "file_extension": ".py",
   "mimetype": "text/x-python",
   "name": "python",
   "nbconvert_exporter": "python",
   "pygments_lexer": "ipython2",
   "version": "2.7.10"
  }
 },
 "nbformat": 4,
 "nbformat_minor": 0
}
